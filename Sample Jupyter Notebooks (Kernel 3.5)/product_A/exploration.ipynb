{
 "cells": [
  {
   "cell_type": "code",
   "execution_count": null,
   "id": "13b12042-8ee4-40e3-b123-10aa50830faa",
   "metadata": {},
   "outputs": [],
   "source": [
    "import matplotlib.pyplot as plt\n",
    "import pandas as pd\n",
    "\n",
    "data = {\"a\": [1, 2, 3], \"b\": [4, 5, 6]}\n",
    "df = pd.DataFrame(data)\n",
    "\n",
    "# Deprecated sort usage\n",
    "sorted_df = df.sort(columns=[\"a\"])  # deprecated\n",
    "print(sorted_df)\n",
    "\n",
    "plt.plot(df[\"a\"], df[\"b\"])\n",
    "plt.show()"
   ]
  }
 ],
 "metadata": {
  "kernelspec": {
   "display_name": "Python 3.5",
   "language": "python",
   "name": "python3"
  },
  "language_info": {
   "codemirror_mode": {
    "name": "ipython",
    "version": 3
   },
   "file_extension": ".py",
   "mimetype": "text/x-python",
   "name": "python",
   "nbconvert_exporter": "python",
   "pygments_lexer": "ipython3",
   "version": "3.5.0"
  }
 },
 "nbformat": 4,
 "nbformat_minor": 5
}
