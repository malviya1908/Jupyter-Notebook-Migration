{
 "cells": [
  {
   "cell_type": "code",
   "execution_count": null,
   "id": "1eea395d-890b-4b7c-bedb-42f086f4ef6b",
   "metadata": {},
   "outputs": [],
   "source": [
    "import pandas as pd\n",
    "import numpy as np\n",
    "\n",
    "# Deprecated Pandas usage\n",
    "df = pd.DataFrame.from_csv(\"data_a.csv\")  # deprecated\n",
    "row0 = df.ix[0]  # deprecated\n",
    "val = np.asscalar(np.array([42])[0])  # deprecated\n",
    "\n",
    "print(\"Row0:\", row0)\n",
    "print(\"Value:\", val)"
   ]
  }
 ],
 "metadata": {
  "kernelspec": {
   "display_name": "Python 3.5",
   "language": "python",
   "name": "python3"
  },
  "language_info": {
   "codemirror_mode": {
    "name": "ipython",
    "version": 3
   },
   "file_extension": ".py",
   "mimetype": "text/x-python",
   "name": "python",
   "nbconvert_exporter": "python",
   "pygments_lexer": "ipython3",
   "version": "3.5.0"
  }
 },
 "nbformat": 4,
 "nbformat_minor": 5
}
