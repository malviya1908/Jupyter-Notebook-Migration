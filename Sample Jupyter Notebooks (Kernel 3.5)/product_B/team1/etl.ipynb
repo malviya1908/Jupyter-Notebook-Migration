{
 "cells": [
  {
   "cell_type": "code",
   "execution_count": null,
   "id": "58610a3d-e989-4edf-bd45-f1d49b050c2c",
   "metadata": {},
   "outputs": [],
   "source": [
    "import math\n",
    "\n",
    "print \"Starting ETL process...\"  # old Python 2 style print\n",
    "result = math.sqrt(64)\n",
    "print(\"Square root of 64:\", result)"
   ]
  }
 ],
 "metadata": {
  "kernelspec": {
   "display_name": "Python 3.5",
   "language": "python",
   "name": "python3"
  },
  "language_info": {
   "codemirror_mode": {
    "name": "ipython",
    "version": 3
   },
   "file_extension": ".py",
   "mimetype": "text/x-python",
   "name": "python",
   "nbconvert_exporter": "python",
   "pygments_lexer": "ipython3",
   "version": "3.5.0"
  }
 },
 "nbformat": 4,
 "nbformat_minor": 5
}
