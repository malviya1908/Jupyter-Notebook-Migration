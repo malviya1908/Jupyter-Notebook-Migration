{
 "cells": [
  {
   "cell_type": "code",
   "execution_count": null,
   "id": "eef07b8c-6344-44c7-ab68-0dac3dd75a0d",
   "metadata": {},
   "outputs": [],
   "source": [
    "import pandas as pd\n",
    "\n",
    "df = pd.DataFrame({\"x\": [10, 20], \"y\": [30, 40]})\n",
    "\n",
    "# Deprecated DataFrame method\n",
    "df2 = df.append({\"x\": 50, \"y\": 60}, ignore_index=True)  # still works, but plan to update\n",
    "print(df2)"
   ]
  }
 ],
 "metadata": {
  "kernelspec": {
   "display_name": "Python 3.5",
   "language": "python",
   "name": "python3"
  },
  "language_info": {
   "codemirror_mode": {
    "name": "ipython",
    "version": 3
   },
   "file_extension": ".py",
   "mimetype": "text/x-python",
   "name": "python",
   "nbconvert_exporter": "python",
   "pygments_lexer": "ipython3",
   "version": "3.5.0"
  }
 },
 "nbformat": 4,
 "nbformat_minor": 5
}
