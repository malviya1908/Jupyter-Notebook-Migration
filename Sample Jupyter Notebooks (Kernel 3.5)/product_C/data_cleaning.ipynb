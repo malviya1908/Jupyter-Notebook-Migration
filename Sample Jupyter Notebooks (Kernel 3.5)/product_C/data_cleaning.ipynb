{
 "cells": [
  {
   "cell_type": "code",
   "execution_count": null,
   "id": "62a17d5c-33a5-4225-a9ff-ad4da8c4afc4",
   "metadata": {},
   "outputs": [],
   "source": [
    "import pandas as pd\n",
    "\n",
    "df = pd.read_csv(\"raw_data.csv\")\n",
    "\n",
    "# Deprecated Pandas fillna usage\n",
    "df = df.fillna(value={\"col1\": 0, \"col2\": \"unknown\"})\n",
    "print(df.head())"
   ]
  }
 ],
 "metadata": {
  "kernelspec": {
   "display_name": "Python 3.5",
   "language": "python",
   "name": "python3"
  },
  "language_info": {
   "codemirror_mode": {
    "name": "ipython",
    "version": 3
   },
   "file_extension": ".py",
   "mimetype": "text/x-python",
   "name": "python",
   "nbconvert_exporter": "python",
   "pygments_lexer": "ipython3",
   "version": "3.5.0"
  }
 },
 "nbformat": 4,
 "nbformat_minor": 5
}
